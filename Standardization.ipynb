{
 "cells": [
  {
   "cell_type": "code",
   "execution_count": 7,
   "metadata": {},
   "outputs": [
    {
     "name": "stdout",
     "output_type": "stream",
     "text": [
      "[-0.9354143466934853, -0.9354143466934853, -0.9354143466934853, -0.9354143466934853, 0.9354143466934853, 0.9354143466934853, 0.9354143466934853, 0.9354143466934853]\n",
      "0.0\n",
      "1.0\n"
     ]
    }
   ],
   "source": [
    "import statistics as st\n",
    "a = [-1, -1, -1, -1, 1, 1, 1, 1]\n",
    "m = st.mean(a)\n",
    "#print(i)\n",
    "j = st.variance(a)\n",
    "#print(j)\n",
    "k = st.stdev(a)\n",
    "#print(k)\n",
    "std = 0\n",
    "for i in range(8):\n",
    "    a[i] = (a[i] -  m) / k\n",
    "print(a)\n",
    "print(st.mean(a))\n",
    "print(st.stdev(a))"
   ]
  },
  {
   "cell_type": "code",
   "execution_count": null,
   "metadata": {},
   "outputs": [],
   "source": []
  }
 ],
 "metadata": {
  "kernelspec": {
   "display_name": "Python 3",
   "language": "python",
   "name": "python3"
  },
  "language_info": {
   "codemirror_mode": {
    "name": "ipython",
    "version": 3
   },
   "file_extension": ".py",
   "mimetype": "text/x-python",
   "name": "python",
   "nbconvert_exporter": "python",
   "pygments_lexer": "ipython3",
   "version": "3.8.5"
  }
 },
 "nbformat": 4,
 "nbformat_minor": 4
}
