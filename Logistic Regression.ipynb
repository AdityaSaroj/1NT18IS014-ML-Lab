{
 "cells": [
  {
   "cell_type": "code",
   "execution_count": 1,
   "metadata": {},
   "outputs": [
    {
     "data": {
      "image/png": "[encoded data removed]",
      "text/plain": [
       "<Figure size 432x288 with 1 Axes>"
      ]
     },
     "metadata": {
      "needs_background": "light"
     },
     "output_type": "display_data"
    }
   ],
   "source": [
    "import pandas as pd\n",
    "import numpy as np\n",
    "import matplotlib.pyplot as plt\n",
    "\n",
    "data = pd.read_csv(\"Student-University.csv\", header = None)\n",
    "\n",
    "X = data.iloc[:, :-1]\n",
    "y = data.iloc[:, -1]\n",
    "admitted = data.loc[y == 1]\n",
    "not_admitted = data.loc[y == 0]\n",
    "plt.scatter(admitted.iloc[:, 0], admitted.iloc[:, 1], s=10, label='Admitted')\n",
    "plt.scatter(not_admitted.iloc[:, 0], not_admitted.iloc[:, 1], s=10, label='Not Admitted')\n",
    "plt.xlabel(\"Marks in first exam\")\n",
    "plt.ylabel(\"Marks in second exam\")\n",
    "plt.legend()\n",
    "plt.show()"
   ]
  },
  {
   "cell_type": "code",
   "execution_count": 2,
   "metadata": {},
   "outputs": [],
   "source": [
    "x_train = X.iloc[:80,:]\n",
    "y_train = y.iloc[:80]\n",
    "x_test = X.iloc[80:,:]\n",
    "y_test = y.iloc[80:]"
   ]
  },
  {
   "cell_type": "code",
   "execution_count": 3,
   "metadata": {},
   "outputs": [
    {
     "data": {
      "text/plain": [
       "0     34.623660\n",
       "1     30.286711\n",
       "2     35.847409\n",
       "3     60.182599\n",
       "4     79.032736\n",
       "        ...    \n",
       "75    99.827858\n",
       "76    47.264269\n",
       "77    50.458160\n",
       "78    60.455556\n",
       "79    82.226662\n",
       "Name: 0, Length: 80, dtype: float64"
      ]
     },
     "execution_count": 3,
     "metadata": {},
     "output_type": "execute_result"
    }
   ],
   "source": [
    "x_train_x1 = x_train.iloc[:,0]\n",
    "x_train_x1"
   ]
  },
  {
   "cell_type": "code",
   "execution_count": 4,
   "metadata": {},
   "outputs": [
    {
     "data": {
      "text/plain": [
       "0     78.024693\n",
       "1     43.894998\n",
       "2     72.902198\n",
       "3     86.308552\n",
       "4     75.344376\n",
       "        ...    \n",
       "75    72.369252\n",
       "76    88.475865\n",
       "77    75.809860\n",
       "78    42.508409\n",
       "79    42.719879\n",
       "Name: 1, Length: 80, dtype: float64"
      ]
     },
     "execution_count": 4,
     "metadata": {},
     "output_type": "execute_result"
    }
   ],
   "source": [
    "x_train_x2 = x_train.iloc[:,1]\n",
    "x_train_x2"
   ]
  },
  {
   "cell_type": "code",
   "execution_count": 5,
   "metadata": {},
   "outputs": [
    {
     "data": {
      "text/plain": [
       "80    88.913896\n",
       "81    94.834507\n",
       "82    67.319257\n",
       "83    57.238706\n",
       "84    80.366756\n",
       "85    68.468522\n",
       "86    42.075455\n",
       "87    75.477702\n",
       "88    78.635424\n",
       "89    52.348004\n",
       "90    94.094331\n",
       "91    90.448551\n",
       "92    55.482161\n",
       "93    74.492692\n",
       "94    89.845807\n",
       "95    83.489163\n",
       "96    42.261701\n",
       "97    99.315009\n",
       "98    55.340018\n",
       "99    74.775893\n",
       "Name: 0, dtype: float64"
      ]
     },
     "execution_count": 5,
     "metadata": {},
     "output_type": "execute_result"
    }
   ],
   "source": [
    "x_test_x1 = x_test.iloc[:,0] \n",
    "x_test_x1"
   ]
  },
  {
   "cell_type": "code",
   "execution_count": 6,
   "metadata": {},
   "outputs": [
    {
     "data": {
      "text/plain": [
       "80    69.803789\n",
       "81    45.694307\n",
       "82    66.589353\n",
       "83    59.514282\n",
       "84    90.960148\n",
       "85    85.594307\n",
       "86    78.844786\n",
       "87    90.424539\n",
       "88    96.647427\n",
       "89    60.769505\n",
       "90    77.159105\n",
       "91    87.508792\n",
       "92    35.570703\n",
       "93    84.845137\n",
       "94    45.358284\n",
       "95    48.380286\n",
       "96    87.103851\n",
       "97    68.775409\n",
       "98    64.931938\n",
       "99    89.529813\n",
       "Name: 1, dtype: float64"
      ]
     },
     "execution_count": 6,
     "metadata": {},
     "output_type": "execute_result"
    }
   ],
   "source": [
    "x_test_x2 = x_test.iloc[:,1] \n",
    "x_test_x2"
   ]
  },
  {
   "cell_type": "code",
   "execution_count": 7,
   "metadata": {},
   "outputs": [],
   "source": [
    "def sigmoid(x):\n",
    "    return 1 / (1 + np.exp(-x))"
   ]
  },
  {
   "cell_type": "code",
   "execution_count": 8,
   "metadata": {},
   "outputs": [],
   "source": [
    "b0 = 0\n",
    "b1 = 0\n",
    "b2 = 0\n",
    "alpha = 0.01\n",
    "epochs = 10000\n",
    "\n",
    "for epoch in range(epochs):\n",
    "    for i in range(80):\n",
    "        eq = b0 + b1*x_train_x1[i] + b2*x_train_x2[i]\n",
    "        y_pred = sigmoid(eq)\n",
    "        if y_train[i]-y_pred != 0:\n",
    "            b0 = b0 + alpha*(y_train[i] - y_pred)*y_pred*(1 - y_pred)*1.0\n",
    "            b1 = b1 + alpha*(y_train[i] - y_pred)*y_pred*(1 - y_pred)*x_train_x1[i]\n",
    "            b2 = b2 + alpha*(y_train[i] - y_pred)*y_pred*(1 - y_pred)*x_train_x2[i]"
   ]
  },
  {
   "cell_type": "code",
   "execution_count": 9,
   "metadata": {},
   "outputs": [
    {
     "data": {
      "text/plain": [
       "(-0.01352562521578008, -0.024422495791001742, -0.2504088758431607)"
      ]
     },
     "execution_count": 9,
     "metadata": {},
     "output_type": "execute_result"
    }
   ],
   "source": [
    "b0, b1, b2"
   ]
  },
  {
   "cell_type": "code",
   "execution_count": 10,
   "metadata": {},
   "outputs": [
    {
     "data": {
      "text/plain": [
       "[0.0,\n",
       " 0.0,\n",
       " 0.0,\n",
       " 0.0,\n",
       " 0.0,\n",
       " 0.0,\n",
       " 0.0,\n",
       " 0.0,\n",
       " 0.0,\n",
       " 0.0,\n",
       " 0.0,\n",
       " 0.0,\n",
       " 0.0,\n",
       " 0.0,\n",
       " 0.0,\n",
       " 0.0,\n",
       " 0.0,\n",
       " 0.0,\n",
       " 0.0,\n",
       " 0.0]"
      ]
     },
     "execution_count": 10,
     "metadata": {},
     "output_type": "execute_result"
    }
   ],
   "source": [
    "pred = []\n",
    "for i in range(80, 100):\n",
    "#     print(x_test_x1[i], x_test_x2[i], b0, b1, b2)\n",
    "    eq = b0 + b1*x_test_x1[i] + b2*x_test_x2[i]\n",
    "    y_pred = np.round(sigmoid(eq))\n",
    "    pred.append(y_pred)\n",
    "        \n",
    "pred\n",
    "        "
   ]
  },
  {
   "cell_type": "code",
   "execution_count": null,
   "metadata": {},
   "outputs": [],
   "source": []
  },
  {
   "cell_type": "code",
   "execution_count": null,
   "metadata": {},
   "outputs": [],
   "source": []
  }
 ],
 "metadata": {
  "kernelspec": {
   "display_name": "Python 3",
   "language": "python",
   "name": "python3"
  },
  "language_info": {
   "codemirror_mode": {
    "name": "ipython",
    "version": 3
   },
   "file_extension": ".py",
   "mimetype": "text/x-python",
   "name": "python",
   "nbconvert_exporter": "python",
   "pygments_lexer": "ipython3",
   "version": "3.8.5"
  }
 },
 "nbformat": 4,
 "nbformat_minor": 4
}
